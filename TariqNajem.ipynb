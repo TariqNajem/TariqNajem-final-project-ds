{
  "nbformat": 4,
  "nbformat_minor": 0,
  "metadata": {
    "colab": {
      "provenance": [],
      "authorship_tag": "ABX9TyOg1XPUVWiHftHzKthCTa6U",
      "include_colab_link": true
    },
    "kernelspec": {
      "name": "python3",
      "display_name": "Python 3"
    },
    "language_info": {
      "name": "python"
    }
  },
  "cells": [
    {
      "cell_type": "markdown",
      "metadata": {
        "id": "view-in-github",
        "colab_type": "text"
      },
      "source": [
        "<a href=\"https://colab.research.google.com/github/TariqNajem/TariqNajem-final-project-ds/blob/main/TariqNajem.ipynb\" target=\"_parent\"><img src=\"https://colab.research.google.com/assets/colab-badge.svg\" alt=\"Open In Colab\"/></a>"
      ]
    },
    {
      "cell_type": "code",
      "execution_count": null,
      "metadata": {
        "id": "AG7VdhnFpqcl"
      },
      "outputs": [],
      "source": []
    },
    {
      "cell_type": "markdown",
      "source": [
        "# Final Project: Data Science Tools and Practices"
      ],
      "metadata": {
        "id": "pANwimfPp97m"
      }
    },
    {
      "cell_type": "code",
      "source": [],
      "metadata": {
        "id": "qKBaxOt6p_U5"
      },
      "execution_count": null,
      "outputs": []
    },
    {
      "cell_type": "markdown",
      "source": [
        "## Introduction\n",
        "This notebook covers basic concepts and tools in data science."
      ],
      "metadata": {
        "id": "KvAos17fqL-n"
      }
    },
    {
      "cell_type": "code",
      "source": [],
      "metadata": {
        "id": "oTUIjHTHqM36"
      },
      "execution_count": null,
      "outputs": []
    },
    {
      "cell_type": "markdown",
      "source": [
        "## Data Science Languages\n",
        "1. Python  \n",
        "2. R  \n",
        "3. SQL  \n",
        "4. Julia  \n",
        "5. Scala"
      ],
      "metadata": {
        "id": "0mX8YF04qWtj"
      }
    },
    {
      "cell_type": "code",
      "source": [],
      "metadata": {
        "id": "V9Bi23cuqXkq"
      },
      "execution_count": null,
      "outputs": []
    },
    {
      "cell_type": "markdown",
      "source": [
        "## Data Science Libraries\n",
        "1. Pandas  \n",
        "2. NumPy  \n",
        "3. Matplotlib  \n",
        "4. Scikit-learn  \n",
        "5. TensorFlow"
      ],
      "metadata": {
        "id": "pBodXXDSqeSq"
      }
    },
    {
      "cell_type": "code",
      "source": [],
      "metadata": {
        "id": "A6SU5dycqgHx"
      },
      "execution_count": null,
      "outputs": []
    },
    {
      "cell_type": "markdown",
      "source": [
        "## Data Science Tools\n",
        "\n",
        "| Tool           | Description                    |\n",
        "|----------------|--------------------------------|\n",
        "| Jupyter Notebook | Interactive coding notebook |\n",
        "| RStudio        | IDE for R                     |\n",
        "| Apache Spark   | Big data processing           |"
      ],
      "metadata": {
        "id": "4zoqDNaBqudv"
      }
    },
    {
      "cell_type": "code",
      "source": [],
      "metadata": {
        "id": "OA-w1ISlqvQp"
      },
      "execution_count": null,
      "outputs": []
    },
    {
      "cell_type": "markdown",
      "source": [
        "## Arithmetic Expressions\n",
        "Here are examples of basic arithmetic expressions using Python."
      ],
      "metadata": {
        "id": "jRrRunV8rCJa"
      }
    },
    {
      "cell_type": "code",
      "source": [
        "(4 * 6) + 2"
      ],
      "metadata": {
        "colab": {
          "base_uri": "https://localhost:8080/"
        },
        "id": "q5Js3U7ArCsR",
        "outputId": "f7808840-a7ae-4ebd-95e2-5d38945f491c"
      },
      "execution_count": 1,
      "outputs": [
        {
          "output_type": "execute_result",
          "data": {
            "text/plain": [
              "26"
            ]
          },
          "metadata": {},
          "execution_count": 1
        }
      ]
    },
    {
      "cell_type": "code",
      "source": [
        "minutes = 120\n",
        "hours = minutes / 60\n",
        "hours"
      ],
      "metadata": {
        "colab": {
          "base_uri": "https://localhost:8080/"
        },
        "id": "t-s7nwkGsAcR",
        "outputId": "54ff9de4-5732-4c5e-83f2-8aeda0b6fbe5"
      },
      "execution_count": 2,
      "outputs": [
        {
          "output_type": "execute_result",
          "data": {
            "text/plain": [
              "2.0"
            ]
          },
          "metadata": {},
          "execution_count": 2
        }
      ]
    },
    {
      "cell_type": "markdown",
      "source": [
        "## Objectives\n",
        "- Understand data science languages  \n",
        "- List key libraries and tools  \n",
        "- Use arithmetic expressions in code  \n",
        "- Convert minutes to hours using Python"
      ],
      "metadata": {
        "id": "Ld2uQ3DosMke"
      }
    },
    {
      "cell_type": "code",
      "source": [],
      "metadata": {
        "id": "CxE_hFA4sNKZ"
      },
      "execution_count": null,
      "outputs": []
    },
    {
      "cell_type": "markdown",
      "source": [
        "## Author\n",
        "Tariq Najem"
      ],
      "metadata": {
        "id": "QtVhQM1usUKz"
      }
    },
    {
      "cell_type": "code",
      "source": [],
      "metadata": {
        "id": "_cSZA_GesUqJ"
      },
      "execution_count": null,
      "outputs": []
    }
  ]
}